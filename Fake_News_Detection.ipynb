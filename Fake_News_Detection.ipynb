{
 "cells": [
  {
   "cell_type": "code",
   "execution_count": null,
   "id": "d2f04bec",
   "metadata": {},
   "outputs": [],
   "source": [
    "import pandas as pd\n",
    "import seaborn as sns\n",
    "import matplotlib.pyplot as plt"
   ]
  },
  {
   "cell_type": "code",
   "execution_count": null,
   "id": "d3067f97",
   "metadata": {},
   "outputs": [],
   "source": [
    "data = pd.read_csv('News.csv',index_col=0)\n",
    "data.head()"
   ]
  },
  {
   "cell_type": "code",
   "execution_count": null,
   "id": "ee8a5390",

   "metadata": {},
   "outputs": [],
   "source": [
    "data.shape"
   ]
  },
  {
   "cell_type": "code",
   "execution_count": null,
   "id": "9dc748c1",
   "metadata": {},
   "outputs": [],
   "source": [
    "data = data.drop([\"title\", \"subject\",\"date\"], axis = 1)"
   ]
  },
  {
   "cell_type": "code",
   "execution_count": null,
   "id": "b5e97aad",
   "metadata": {},
   "outputs": [],
   "source": [
    "data.isnull().sum()"
   ]
  },
  {
   "cell_type": "code",
   "execution_count": null,
   "id": "5c767a7e",
   "metadata": {},
   "outputs": [],
   "source": [
    "# Shuffling\n",
    "data = data.sample(frac=1)\n",
    "data.reset_index(inplace=True)\n",
    "data.drop([\"index\"], axis=1, inplace=True)"
   ]
  },
  {
   "cell_type": "code",
   "execution_count": null,
   "id": "63d48805",
   "metadata": {},
   "outputs": [],
   "source": [
    "sns.countplot(data=data,\n",
    "              x='class',\n",
    "              order=data['class'].value_counts().index)"
   ]
  },
  {
   "cell_type": "code",
   "execution_count": null,
   "id": "88f70389",
   "metadata": {},
   "outputs": [],
   "source": [
    "from tqdm import tqdm\n",
    "import re\n",
    "import nltk\n",
    "nltk.download('punkt')\n",
    "nltk.download('stopwords')\n",
    "from nltk.corpus import stopwords\n",
    "from nltk.tokenize import word_tokenize\n",
    "from nltk.stem.porter import PorterStemmer\n",
    "from wordcloud import WordCloud"
   ]
  },
  {
   "cell_type": "code",
   "execution_count": null,
   "id": "ddd04c91",
   "metadata": {},
   "outputs": [],
   "source": [
    "def preprocess_text(text_data):\n",
    "\tpreprocessed_text = []\n",
    "\n",
    "\tfor sentence in tqdm(text_data):\n",
    "\t\tsentence = re.sub(r'[^\\w\\s]', '', sentence)\n",
    "\t\tpreprocessed_text.append(' '.join(token.lower()\n",
    "\t\t\t\t\t\t\t\tfor token in str(sentence).split()\n",
    "\t\t\t\t\t\t\t\tif token not in stopwords.words('english')))\n",
    "\n",
    "\treturn preprocessed_text"
   ]
  },
  {
   "cell_type": "code",
   "execution_count": null,
   "id": "86242d05",
   "metadata": {},
   "outputs": [],
   "source": [
    "preprocessed_review = preprocess_text(data['text'].values)\n",
    "data['text'] = preprocessed_review"
   ]
  },
  {
   "cell_type": "code",
   "execution_count": null,
   "id": "a3b1742c",
   "metadata": {},
   "outputs": [],
   "source": [
    "# Real\n",
    "consolidated = ' '.join(\n",
    "\tword for word in data['text'][data['class'] == 1].astype(str))\n",
    "wordCloud = WordCloud(width=1600,\n",
    "\t\t\t\t\theight=800,\n",
    "\t\t\t\t\trandom_state=21,\n",
    "\t\t\t\t\tmax_font_size=110,\n",
    "\t\t\t\t\tcollocations=False)\n",
    "plt.figure(figsize=(15, 10))\n",
    "plt.imshow(wordCloud.generate(consolidated), interpolation='bilinear')\n",
    "plt.axis('off')\n",
    "plt.show()"
   ]
  },
  {
   "cell_type": "code",
   "execution_count": null,
   "id": "fd6e7d36",
   "metadata": {},
   "outputs": [],
   "source": [
    "# Fake\n",
    "consolidated = ' '.join(\n",
    "\tword for word in data['text'][data['class'] == 0].astype(str))\n",
    "wordCloud = WordCloud(width=1600,\n",
    "\t\t\t\t\theight=800,\n",
    "\t\t\t\t\trandom_state=21,\n",
    "\t\t\t\t\tmax_font_size=110,\n",
    "\t\t\t\t\tcollocations=False)\n",
    "plt.figure(figsize=(15, 10))\n",
    "plt.imshow(wordCloud.generate(consolidated), interpolation='bilinear')\n",
    "plt.axis('off')\n",
    "plt.show()"
   ]
  },
  {
   "cell_type": "code",
   "execution_count": null,
   "id": "c9cfe9a9",
   "metadata": {},
   "outputs": [],
   "source": [
    "from sklearn.feature_extraction.text import CountVectorizer\n",
    "\n",
    "\n",
    "def get_top_n_words(corpus, n=None):\n",
    "\tvec = CountVectorizer().fit(corpus)\n",
    "\tbag_of_words = vec.transform(corpus)\n",
    "\tsum_words = bag_of_words.sum(axis=0)\n",
    "\twords_freq = [(word, sum_words[0, idx])\n",
    "\t\t\t\tfor word, idx in vec.vocabulary_.items()]\n",
    "\twords_freq = sorted(words_freq, key=lambda x: x[1],\n",
    "\t\t\t\t\t\treverse=True)\n",
    "\treturn words_freq[:n]\n",
    "\n",
    "\n",
    "common_words = get_top_n_words(data['text'], 20)\n",
    "df1 = pd.DataFrame(common_words, columns=['Review', 'count'])\n",
    "\n",
    "df1.groupby('Review').sum()['count'].sort_values(ascending=False).plot(\n",
    "\tkind='bar',\n",
    "\tfigsize=(10, 6),\n",
    "\txlabel=\"Top Words\",\n",
    "\tylabel=\"Count\",\n",
    "\ttitle=\"Bar Chart of Top Words Frequency\"\n",
    ")"
   ]
  },
  {
   "cell_type": "code",
   "execution_count": null,
   "id": "3f328f29",
   "metadata": {},
   "outputs": [],
   "source": [
    "from sklearn.model_selection import train_test_split\n",
    "from sklearn.metrics import accuracy_score\n",
    "from sklearn.linear_model import LogisticRegression\n",
    "\n",
    "x_train, x_test, y_train, y_test = train_test_split(data['text'],\n",
    "\t\t\t\t\t\t\t\t\t\t\t\t\tdata['class'],\n",
    "\t\t\t\t\t\t\t\t\t\t\t\t\ttest_size=0.25)"
   ]
  },
  {
   "cell_type": "code",
   "execution_count": null,
   "id": "cdc49ef6",
   "metadata": {},
   "outputs": [],
   "source": [
    "from sklearn.feature_extraction.text import TfidfVectorizer\n",
    "\n",
    "vectorization = TfidfVectorizer()\n",
    "x_train = vectorization.fit_transform(x_train)\n",
    "x_test = vectorization.transform(x_test)"
   ]
  },
  {
   "cell_type": "code",
   "execution_count": null,
   "id": "9e2bac4f",
   "metadata": {},
   "outputs": [],
   "source": [
    "from sklearn.linear_model import LogisticRegression\n",
    "\n",
    "model = LogisticRegression()\n",
    "model.fit(x_train, y_train)\n",
    "\n",
    "# testing the model\n",
    "print(accuracy_score(y_train, model.predict(x_train)))\n",
    "print(accuracy_score(y_test, model.predict(x_test)))"
   ]
  },
  {
   "cell_type": "code",
   "execution_count": null,
   "id": "1791ec81",
   "metadata": {},
   "outputs": [],
   "source": [
    "from sklearn.tree import DecisionTreeClassifier\n",
    "\n",
    "model = DecisionTreeClassifier()\n",
    "model.fit(x_train, y_train)\n",
    "\n",
    "# testing the model\n",
    "print(accuracy_score(y_train, model.predict(x_train)))\n",
    "print(accuracy_score(y_test, model.predict(x_test)))"
   ]
  },
  {
   "cell_type": "code",
   "execution_count": null,
   "id": "1d113984",
   "metadata": {},
   "outputs": [],
   "source": [
    "# Confusion matrix of Results from Decision Tree classification\n",
    "from sklearn import metrics\n",
    "cm = metrics.confusion_matrix(y_test, model.predict(x_test))\n",
    "\n",
    "cm_display = metrics.ConfusionMatrixDisplay(confusion_matrix=cm,\n",
    "\t\t\t\t\t\t\t\t\t\t\tdisplay_labels=[False, True])\n",
    "\n",
    "cm_display.plot()\n",
    "plt.show()"
   ]
  }
 ],
 "metadata": {
  "kernelspec": {
   "display_name": "Python 3",
   "language": "python",
   "name": "python3"
  },
  "language_info": {
   "codemirror_mode": {
    "name": "ipython",
    "version": 3
   },
   "file_extension": ".py",
   "mimetype": "text/x-python",
   "name": "python",
   "nbconvert_exporter": "python",
   "pygments_lexer": "ipython3",
   "version": "3.13.3"
  }
 },
 "nbformat": 4,
 "nbformat_minor": 5
}
